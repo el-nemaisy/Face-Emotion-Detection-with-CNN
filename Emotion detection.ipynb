{
 "cells": [
  {
   "cell_type": "code",
   "execution_count": 6,
   "id": "f1777db0",
   "metadata": {},
   "outputs": [],
   "source": [
    "import numpy as np\n",
    "import pandas as pd\n",
    "import matplotlib.pyplot as plt\n",
    "import seaborn as sns\n",
    "import tensorflow as tf"
   ]
  },
  {
   "cell_type": "code",
   "execution_count": 33,
   "id": "8d232506",
   "metadata": {},
   "outputs": [
    {
     "name": "stdout",
     "output_type": "stream",
     "text": [
      "C:\\Users\\h p\\Downloads\\archive\n"
     ]
    }
   ],
   "source": [
    "cd \"C:/Users/h p/Downloads/archive\""
   ]
  },
  {
   "cell_type": "code",
   "execution_count": 44,
   "id": "2c615b21",
   "metadata": {},
   "outputs": [],
   "source": [
    "# Setting up the directories\n",
    "train_dir = 'C:/Users/h p/Downloads/archive/archive/train'\n",
    "test_dir = 'C:/Users/h p/Downloads/archive/Downloads/archive/test'"
   ]
  },
  {
   "cell_type": "code",
   "execution_count": 45,
   "id": "ac89005c",
   "metadata": {},
   "outputs": [],
   "source": [
    "import os\n",
    "for dirpath,dirname,filenames in os.walk('/kaggle/input/fer2013'):\n",
    "    print(f'There are {len(dirname)} directories and {len(filenames)} images in {dirpath}')"
   ]
  },
  {
   "cell_type": "code",
   "execution_count": 47,
   "id": "55967928",
   "metadata": {},
   "outputs": [
    {
     "data": {
      "text/plain": [
       "(-0.5, 47.5, 47.5, -0.5)"
      ]
     },
     "execution_count": 47,
     "metadata": {},
     "output_type": "execute_result"
    },
    {
     "data": {
      "image/png": "[encoded data removed]",
      "text/plain": [
       "<Figure size 640x480 with 1 Axes>"
      ]
     },
     "metadata": {},
     "output_type": "display_data"
    }
   ],
   "source": [
    "# Let's look at some images\n",
    "from matplotlib.pyplot import imread\n",
    "img = imread('C:/Users/h p/Downloads/archive/train/angry/Training_10118481.jpg')\n",
    "plt.imshow(img,'binary')\n",
    "plt.axis(False)"
   ]
  },
  {
   "cell_type": "code",
   "execution_count": 49,
   "id": "03fc40f6",
   "metadata": {},
   "outputs": [
    {
     "name": "stdout",
     "output_type": "stream",
     "text": [
      "Found 28709 images belonging to 7 classes.\n",
      "Found 7178 images belonging to 7 classes.\n"
     ]
    }
   ],
   "source": [
    "from tensorflow.keras.preprocessing.image import ImageDataGenerator\n",
    "train_datagen = ImageDataGenerator(rescale=1./255)\n",
    "test_datagen = ImageDataGenerator(rescale=1./255)\n",
    "\n",
    "train_data = train_datagen.flow_from_directory(directory='C:/Users/h p/Downloads/archive/train',class_mode='binary')\n",
    "test_data = test_datagen.flow_from_directory(directory='C:/Users/h p/Downloads/archive/test',class_mode='binary')"
   ]
  },
  {
   "cell_type": "code",
   "execution_count": 141,
   "id": "96aa02c0",
   "metadata": {},
   "outputs": [],
   "source": [
    "class_names = ['angry', 'disgust', 'fear', 'happy', 'neutral', 'sad','surbrise']"
   ]
  },
  {
   "cell_type": "code",
   "execution_count": 50,
   "id": "7c1ea36a",
   "metadata": {},
   "outputs": [],
   "source": [
    "X,y=train_data.next()"
   ]
  },
  {
   "cell_type": "code",
   "execution_count": 51,
   "id": "917d1964",
   "metadata": {},
   "outputs": [
    {
     "data": {
      "text/plain": [
       "0"
      ]
     },
     "execution_count": 51,
     "metadata": {},
     "output_type": "execute_result"
    }
   ],
   "source": [
    "(X>1).sum()"
   ]
  },
  {
   "cell_type": "code",
   "execution_count": 52,
   "id": "24956562",
   "metadata": {},
   "outputs": [
    {
     "data": {
      "text/plain": [
       "0"
      ]
     },
     "execution_count": 52,
     "metadata": {},
     "output_type": "execute_result"
    }
   ],
   "source": [
    "(X<0).sum()"
   ]
  },
  {
   "cell_type": "code",
   "execution_count": 53,
   "id": "5ce73e18",
   "metadata": {},
   "outputs": [],
   "source": [
    "from tensorflow.keras import Sequential\n",
    "from tensorflow.keras.layers import Conv2D, MaxPool2D,Flatten,Dense\n",
    "from tensorflow.keras.optimizers import Adam"
   ]
  },
  {
   "cell_type": "code",
   "execution_count": 54,
   "id": "e5c5b7eb",
   "metadata": {},
   "outputs": [],
   "source": [
    "model_1 = Sequential([\n",
    "    Conv2D(10,3,activation='relu'),\n",
    "    MaxPool2D(),\n",
    "    Conv2D(10,3,activation='relu'),\n",
    "    MaxPool2D(),\n",
    "    Flatten(),\n",
    "    Dense(7,activation='softmax')\n",
    "])\n",
    "model_1.compile(optimizer=Adam(),\n",
    "               loss='sparse_categorical_crossentropy',\n",
    "               metrics=['accuracy'])"
   ]
  },
  {
   "cell_type": "code",
   "execution_count": 55,
   "id": "605db835",
   "metadata": {},
   "outputs": [
    {
     "name": "stdout",
     "output_type": "stream",
     "text": [
      "Epoch 1/5\n",
      "898/898 [==============================] - 478s 531ms/step - loss: 1.6993 - accuracy: 0.3425 - val_loss: 1.6060 - val_accuracy: 0.3791\n",
      "Epoch 2/5\n",
      "898/898 [==============================] - 508s 566ms/step - loss: 1.4707 - accuracy: 0.4403 - val_loss: 1.5153 - val_accuracy: 0.4241\n",
      "Epoch 3/5\n",
      "898/898 [==============================] - 476s 531ms/step - loss: 1.3162 - accuracy: 0.5091 - val_loss: 1.5237 - val_accuracy: 0.4369\n",
      "Epoch 4/5\n",
      "898/898 [==============================] - 856s 954ms/step - loss: 1.1613 - accuracy: 0.5699 - val_loss: 1.5629 - val_accuracy: 0.4356\n",
      "Epoch 5/5\n",
      "898/898 [==============================] - 747s 831ms/step - loss: 1.0084 - accuracy: 0.6285 - val_loss: 1.6734 - val_accuracy: 0.4429\n"
     ]
    },
    {
     "data": {
      "text/plain": [
       "<keras.src.callbacks.History at 0x20b5326ee60>"
      ]
     },
     "execution_count": 55,
     "metadata": {},
     "output_type": "execute_result"
    }
   ],
   "source": [
    "model_1.fit(train_data,epochs=5,steps_per_epoch=len(train_data),validation_data=test_data,validation_steps=len(test_data))"
   ]
  },
  {
   "cell_type": "code",
   "execution_count": 56,
   "id": "b778d289",
   "metadata": {},
   "outputs": [
    {
     "name": "stdout",
     "output_type": "stream",
     "text": [
      "probability for guessing randomly: 0.14285714285714285\n"
     ]
    }
   ],
   "source": [
    "print('probability for guessing randomly:',1/7)"
   ]
  },
  {
   "cell_type": "code",
   "execution_count": 57,
   "id": "908ada9a",
   "metadata": {},
   "outputs": [
    {
     "name": "stdout",
     "output_type": "stream",
     "text": [
      "accuracy of our model: 0.4278\n"
     ]
    }
   ],
   "source": [
    "print('accuracy of our model:',0.4278)"
   ]
  },
  {
   "cell_type": "code",
   "execution_count": 58,
   "id": "70f22c98",
   "metadata": {},
   "outputs": [
    {
     "name": "stdout",
     "output_type": "stream",
     "text": [
      "Model: \"sequential\"\n",
      "_________________________________________________________________\n",
      " Layer (type)                Output Shape              Param #   \n",
      "=================================================================\n",
      " conv2d (Conv2D)             (None, None, None, 10)    280       \n",
      "                                                                 \n",
      " max_pooling2d (MaxPooling2  (None, None, None, 10)    0         \n",
      " D)                                                              \n",
      "                                                                 \n",
      " conv2d_1 (Conv2D)           (None, None, None, 10)    910       \n",
      "                                                                 \n",
      " max_pooling2d_1 (MaxPoolin  (None, None, None, 10)    0         \n",
      " g2D)                                                            \n",
      "                                                                 \n",
      " flatten (Flatten)           (None, None)              0         \n",
      "                                                                 \n",
      " dense (Dense)               (None, 7)                 269087    \n",
      "                                                                 \n",
      "=================================================================\n",
      "Total params: 270277 (1.03 MB)\n",
      "Trainable params: 270277 (1.03 MB)\n",
      "Non-trainable params: 0 (0.00 Byte)\n",
      "_________________________________________________________________\n"
     ]
    }
   ],
   "source": [
    "model_1.summary()"
   ]
  },
  {
   "cell_type": "code",
   "execution_count": 230,
   "id": "44d7aec6",
   "metadata": {},
   "outputs": [],
   "source": [
    "images,labels=test_data.next()"
   ]
  },
  {
   "cell_type": "code",
   "execution_count": 231,
   "id": "3410ecbf",
   "metadata": {},
   "outputs": [
    {
     "data": {
      "text/plain": [
       "Text(0.5, 1.0, '2.0')"
      ]
     },
     "execution_count": 231,
     "metadata": {},
     "output_type": "execute_result"
    },
    {
     "data": {
      "image/png": "[encoded data removed]",
      "text/plain": [
       "<Figure size 640x480 with 1 Axes>"
      ]
     },
     "metadata": {},
     "output_type": "display_data"
    }
   ],
   "source": [
    "plt.imshow(images[5])\n",
    "plt.title(labels[1])"
   ]
  },
  {
   "cell_type": "code",
   "execution_count": 232,
   "id": "a633e8db",
   "metadata": {},
   "outputs": [
    {
     "name": "stdout",
     "output_type": "stream",
     "text": [
      "1/1 [==============================] - 0s 23ms/step\n"
     ]
    },
    {
     "data": {
      "text/plain": [
       "'surbrise'"
      ]
     },
     "execution_count": 232,
     "metadata": {},
     "output_type": "execute_result"
    }
   ],
   "source": [
    "img = images[5]\n",
    "img = np.array([img])\n",
    "pred = model_1.predict(img)\n",
    "ss = np.argmax(pred)\n",
    "ff = int(ss)\n",
    "class_names[ff]"
   ]
  },
  {
   "cell_type": "code",
   "execution_count": 189,
   "id": "6b90e7e5",
   "metadata": {},
   "outputs": [],
   "source": [
    "images,labels=test_data.next()"
   ]
  },
  {
   "cell_type": "code",
   "execution_count": 190,
   "id": "5d431597",
   "metadata": {},
   "outputs": [
    {
     "name": "stdout",
     "output_type": "stream",
     "text": [
      "1/1 [==============================] - 0s 21ms/step\n"
     ]
    }
   ],
   "source": [
    "pred=np.argmax(model_1.predict(tf.expand_dims(images[1],axis=0)))"
   ]
  },
  {
   "cell_type": "code",
   "execution_count": 191,
   "id": "325994d4",
   "metadata": {},
   "outputs": [
    {
     "data": {
      "text/plain": [
       "3"
      ]
     },
     "execution_count": 191,
     "metadata": {},
     "output_type": "execute_result"
    }
   ],
   "source": [
    "pred"
   ]
  },
  {
   "cell_type": "code",
   "execution_count": null,
   "id": "3e6a478d",
   "metadata": {},
   "outputs": [],
   "source": []
  }
 ],
 "metadata": {
  "kernelspec": {
   "display_name": "Python 3 (ipykernel)",
   "language": "python",
   "name": "python3"
  },
  "language_info": {
   "codemirror_mode": {
    "name": "ipython",
    "version": 3
   },
   "file_extension": ".py",
   "mimetype": "text/x-python",
   "name": "python",
   "nbconvert_exporter": "python",
   "pygments_lexer": "ipython3",
   "version": "3.9.7"
  }
 },
 "nbformat": 4,
 "nbformat_minor": 5
}
